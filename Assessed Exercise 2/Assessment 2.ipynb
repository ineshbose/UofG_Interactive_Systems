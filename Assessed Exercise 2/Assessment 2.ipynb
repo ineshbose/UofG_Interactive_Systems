{
 "cells": [
  {
   "cell_type": "code",
   "execution_count": 1,
   "metadata": {},
   "outputs": [],
   "source": [
    "## Inesh Bose"
   ]
  },
  {
   "cell_type": "markdown",
   "metadata": {},
   "source": [
    "# Assessment 2\n",
    "\n",
    "This assessment involves reproducing an experimental analysis using an openly available dataset.  The datasets and accompanying research paper can be found at: https://dl.acm.org/citation.cfm?id=3174220\n",
    "\n",
    "Please follow on below and complete all sections.\n",
    "\n",
    "See also the accompanying IS AE2 sheet on Moodle for submission details etc.\n"
   ]
  },
  {
   "cell_type": "code",
   "execution_count": 2,
   "metadata": {},
   "outputs": [],
   "source": [
    "# You should use pandas to work with the dataset as shown in this notebook.\n",
    "import pandas as pd\n",
    "from os import listdir\n",
    "import numpy as np\n",
    "\n",
    "# Generate visualisations in matplotlib or seaborn\n",
    "import seaborn as sns\n",
    "import matplotlib\n",
    "import matplotlib.pyplot as plt\n",
    "%matplotlib inline\n",
    "\n",
    "# This asessment also depends on the pylev package.  Ensure you have installed this before beginning.\n",
    "\n",
    "import pylev"
   ]
  },
  {
   "cell_type": "markdown",
   "metadata": {},
   "source": [
    "# Keystroke Dataset\n",
    "The dataset you will use for this assessment is a subset of the 136 million keystrokes analysed in the paper.  Each row in the dataset represents a single keystroke (e.g. pressing \"a\", or a modifier key like \"SHIFT\"), and contains information such as key press time, key release time (both in milliseconds), the sentence prompted, the actual input, and the key code.  \n",
    "\n",
    "Each user's data is stored in a separate txt file. Load in the data into a single data frame and familiarise yourself with its structure."
   ]
  },
  {
   "cell_type": "code",
   "execution_count": 3,
   "metadata": {},
   "outputs": [],
   "source": [
    "# load in the dataset provided at https://dl.acm.org/citation.cfm?id=3174220 \n",
    "\n",
    "user_frame = []\n",
    "\n",
    "for file in listdir('KeyStrokes-LabStudies/'):\n",
    "    if (file[-3:]) == 'txt':\n",
    "        user_frame.append(pd.read_csv('KeyStrokes-LabStudies/' + file, sep='\\t'))\n",
    "\n",
    "data_frame = pd.concat(user_frame, axis=0, ignore_index=True)\n",
    "    "
   ]
  },
  {
   "cell_type": "code",
   "execution_count": 4,
   "metadata": {},
   "outputs": [
    {
     "data": {
      "text/html": [
       "<div>\n",
       "<style scoped>\n",
       "    .dataframe tbody tr th:only-of-type {\n",
       "        vertical-align: middle;\n",
       "    }\n",
       "\n",
       "    .dataframe tbody tr th {\n",
       "        vertical-align: top;\n",
       "    }\n",
       "\n",
       "    .dataframe thead th {\n",
       "        text-align: right;\n",
       "    }\n",
       "</style>\n",
       "<table border=\"1\" class=\"dataframe\">\n",
       "  <thead>\n",
       "    <tr style=\"text-align: right;\">\n",
       "      <th></th>\n",
       "      <th>PARTICIPANT_ID</th>\n",
       "      <th>TEST_SECTION_ID</th>\n",
       "      <th>SENTENCE</th>\n",
       "      <th>USER_INPUT</th>\n",
       "      <th>KEYSTROKE_ID</th>\n",
       "      <th>PRESS_TIME</th>\n",
       "      <th>RELEASE_TIME</th>\n",
       "      <th>LETTER</th>\n",
       "      <th>KEYCODE</th>\n",
       "    </tr>\n",
       "  </thead>\n",
       "  <tbody>\n",
       "    <tr>\n",
       "      <th>0</th>\n",
       "      <td>145007</td>\n",
       "      <td>1577476</td>\n",
       "      <td>I will be out on Friday, but any other day is ...</td>\n",
       "      <td>I will be out on Frida, but any other day is f...</td>\n",
       "      <td>74993989</td>\n",
       "      <td>1473871859057</td>\n",
       "      <td>1473871859304</td>\n",
       "      <td>SHIFT</td>\n",
       "      <td>16</td>\n",
       "    </tr>\n",
       "    <tr>\n",
       "      <th>1</th>\n",
       "      <td>145007</td>\n",
       "      <td>1577476</td>\n",
       "      <td>I will be out on Friday, but any other day is ...</td>\n",
       "      <td>I will be out on Frida, but any other day is f...</td>\n",
       "      <td>74993987</td>\n",
       "      <td>1473871859201</td>\n",
       "      <td>1473871859297</td>\n",
       "      <td>I</td>\n",
       "      <td>73</td>\n",
       "    </tr>\n",
       "    <tr>\n",
       "      <th>2</th>\n",
       "      <td>145007</td>\n",
       "      <td>1577476</td>\n",
       "      <td>I will be out on Friday, but any other day is ...</td>\n",
       "      <td>I will be out on Frida, but any other day is f...</td>\n",
       "      <td>74993991</td>\n",
       "      <td>1473871859312</td>\n",
       "      <td>1473871859408</td>\n",
       "      <td></td>\n",
       "      <td>32</td>\n",
       "    </tr>\n",
       "    <tr>\n",
       "      <th>3</th>\n",
       "      <td>145007</td>\n",
       "      <td>1577476</td>\n",
       "      <td>I will be out on Friday, but any other day is ...</td>\n",
       "      <td>I will be out on Frida, but any other day is f...</td>\n",
       "      <td>74993993</td>\n",
       "      <td>1473871859424</td>\n",
       "      <td>1473871859520</td>\n",
       "      <td>w</td>\n",
       "      <td>87</td>\n",
       "    </tr>\n",
       "    <tr>\n",
       "      <th>4</th>\n",
       "      <td>145007</td>\n",
       "      <td>1577476</td>\n",
       "      <td>I will be out on Friday, but any other day is ...</td>\n",
       "      <td>I will be out on Frida, but any other day is f...</td>\n",
       "      <td>74993995</td>\n",
       "      <td>1473871859504</td>\n",
       "      <td>1473871859568</td>\n",
       "      <td>i</td>\n",
       "      <td>73</td>\n",
       "    </tr>\n",
       "  </tbody>\n",
       "</table>\n",
       "</div>"
      ],
      "text/plain": [
       "   PARTICIPANT_ID  TEST_SECTION_ID  \\\n",
       "0          145007          1577476   \n",
       "1          145007          1577476   \n",
       "2          145007          1577476   \n",
       "3          145007          1577476   \n",
       "4          145007          1577476   \n",
       "\n",
       "                                            SENTENCE  \\\n",
       "0  I will be out on Friday, but any other day is ...   \n",
       "1  I will be out on Friday, but any other day is ...   \n",
       "2  I will be out on Friday, but any other day is ...   \n",
       "3  I will be out on Friday, but any other day is ...   \n",
       "4  I will be out on Friday, but any other day is ...   \n",
       "\n",
       "                                          USER_INPUT  KEYSTROKE_ID  \\\n",
       "0  I will be out on Frida, but any other day is f...      74993989   \n",
       "1  I will be out on Frida, but any other day is f...      74993987   \n",
       "2  I will be out on Frida, but any other day is f...      74993991   \n",
       "3  I will be out on Frida, but any other day is f...      74993993   \n",
       "4  I will be out on Frida, but any other day is f...      74993995   \n",
       "\n",
       "      PRESS_TIME   RELEASE_TIME LETTER  KEYCODE  \n",
       "0  1473871859057  1473871859304  SHIFT       16  \n",
       "1  1473871859201  1473871859297      I       73  \n",
       "2  1473871859312  1473871859408              32  \n",
       "3  1473871859424  1473871859520      w       87  \n",
       "4  1473871859504  1473871859568      i       73  "
      ]
     },
     "execution_count": 4,
     "metadata": {},
     "output_type": "execute_result"
    }
   ],
   "source": [
    "# if in doubt, always check that the data appears as you expect\n",
    "\n",
    "data_frame.head()"
   ]
  },
  {
   "cell_type": "code",
   "execution_count": 5,
   "metadata": {},
   "outputs": [
    {
     "data": {
      "text/html": [
       "<div>\n",
       "<style scoped>\n",
       "    .dataframe tbody tr th:only-of-type {\n",
       "        vertical-align: middle;\n",
       "    }\n",
       "\n",
       "    .dataframe tbody tr th {\n",
       "        vertical-align: top;\n",
       "    }\n",
       "\n",
       "    .dataframe thead th {\n",
       "        text-align: right;\n",
       "    }\n",
       "</style>\n",
       "<table border=\"1\" class=\"dataframe\">\n",
       "  <thead>\n",
       "    <tr style=\"text-align: right;\">\n",
       "      <th></th>\n",
       "      <th>PARTICIPANT_ID</th>\n",
       "      <th>TEST_SECTION_ID</th>\n",
       "    </tr>\n",
       "  </thead>\n",
       "  <tbody>\n",
       "    <tr>\n",
       "      <th>0</th>\n",
       "      <td>145007</td>\n",
       "      <td>1577476</td>\n",
       "    </tr>\n",
       "    <tr>\n",
       "      <th>1</th>\n",
       "      <td>145007</td>\n",
       "      <td>1577488</td>\n",
       "    </tr>\n",
       "    <tr>\n",
       "      <th>2</th>\n",
       "      <td>145007</td>\n",
       "      <td>1577500</td>\n",
       "    </tr>\n",
       "    <tr>\n",
       "      <th>3</th>\n",
       "      <td>145007</td>\n",
       "      <td>1577508</td>\n",
       "    </tr>\n",
       "    <tr>\n",
       "      <th>4</th>\n",
       "      <td>145007</td>\n",
       "      <td>1577517</td>\n",
       "    </tr>\n",
       "  </tbody>\n",
       "</table>\n",
       "</div>"
      ],
      "text/plain": [
       "   PARTICIPANT_ID  TEST_SECTION_ID\n",
       "0          145007          1577476\n",
       "1          145007          1577488\n",
       "2          145007          1577500\n",
       "3          145007          1577508\n",
       "4          145007          1577517"
      ]
     },
     "execution_count": 5,
     "metadata": {},
     "output_type": "execute_result"
    }
   ],
   "source": [
    "# setup a new data structure to hold each of the metrics you have calculated\n",
    "\n",
    "# All metrics should be calculated on a per-sentence basis.  Use a data frame to store the metrics you calculate.\n",
    "\n",
    "metric_frame = data_frame[['PARTICIPANT_ID', 'TEST_SECTION_ID']].drop_duplicates().reset_index(drop=True)\n",
    "\n",
    "metric_frame.head()\n"
   ]
  },
  {
   "cell_type": "markdown",
   "metadata": {},
   "source": [
    "# 1. Performance Metrics\n",
    "\n",
    "Keystroke studies have a number of standard performance metrics. For this assessment, you must calculate each of the metrics below and generate an accompanying diagram/visualisation for each.  All metrics should be calculated for each test section (on a sentence by sentence basis) but visualisations can be produced using any grouping of the data.\n",
    "\n",
    "__For each metric below__, you should use the following pattern to implement your solution. \n",
    "* Define a function that:\n",
    " * takes in a data frame holding data for a single sentence (i.e. all data for unique TEST_SECTION_ID), where each row of the data frame is a keystroke for that sentence \n",
    " * returns the metric for that sentence\n",
    "* Call the add_column function below to add the metric to the metric_frame as a new column.  add_column takes in a data frame (to which we're adding a column), your new function to calculate the metric, and a name for the new column."
   ]
  },
  {
   "cell_type": "code",
   "execution_count": 6,
   "metadata": {},
   "outputs": [],
   "source": [
    "def add_column(frame, fn, name):\n",
    "    new_col = data_frame.groupby(['TEST_SECTION_ID', 'PARTICIPANT_ID']).apply(fn).reset_index(name=name)\n",
    "    return frame.merge(new_col)"
   ]
  },
  {
   "cell_type": "markdown",
   "metadata": {},
   "source": [
    "To illustrate the format, the first metric below is completed for you"
   ]
  },
  {
   "cell_type": "markdown",
   "metadata": {},
   "source": [
    "## a) Uncorrected Error Rate\n",
    "UER is the Levenshtein distance (use the pylev package to calculate this) from the correct string to the string entered by the user, divided by the number of characters in whichever is larger of the correct or entered string.\n",
    "\n",
    "Calculate the Levenshtein distance for each test section (sentence), print the average value across all users, and produce a visualisation of this data.\n",
    "\n",
    "__Sample solution provided__  \n",
    "\n",
    "  -- Use this sample answer to structure your solutions for the remaining metrics."
   ]
  },
  {
   "cell_type": "code",
   "execution_count": 7,
   "metadata": {},
   "outputs": [
    {
     "name": "stdout",
     "output_type": "stream",
     "text": [
      "Average Uncorrected Error Rate: 2.394441\n"
     ]
    }
   ],
   "source": [
    "def uncorrErrRate(test_section):\n",
    "    dist = pylev.levenshtein(test_section['SENTENCE'].iloc[0], test_section['USER_INPUT'].iloc[0])\n",
    "    maxChars = max(len(test_section['SENTENCE'].iloc[0]), len(test_section['USER_INPUT'].iloc[0]))\n",
    "    return 100.0*float(dist)/float(maxChars)\n",
    "\n",
    "metric_frame = add_column(metric_frame, uncorrErrRate, 'UER')\n",
    "\n",
    "uer_mean = metric_frame['UER'].mean()\n",
    "print(f\"Average Uncorrected Error Rate: {uer_mean:.6f}\")"
   ]
  },
  {
   "cell_type": "code",
   "execution_count": 8,
   "metadata": {},
   "outputs": [
    {
     "data": {
      "image/png": "[encoded data removed]",
      "text/plain": [
       "<Figure size 432x288 with 1 Axes>"
      ]
     },
     "metadata": {
      "needs_background": "light"
     },
     "output_type": "display_data"
    }
   ],
   "source": [
    "#show probability\n",
    "ax = sns.histplot(data=metric_frame['UER'], kde=\"true\", stat=\"probability\")\n",
    "ax.set(xlabel=\"Uncorrected Error Rate %\", ylabel=\"Probability Density\");\n"
   ]
  },
  {
   "cell_type": "markdown",
   "metadata": {},
   "source": [
    "## b) Words Per Minute\n",
    "WPM is calculated by taking the word count of the typed string divided by the time in minutes from the first key press to the last key press. \n",
    "\n",
    "__NOTE__ the definition of 'word' in the paper for the purposes of these calculations: a word is considered as any 5 characters of text the user submits (including spaces, punctuation etc.)\n",
    "\n",
    "Calculate the WPM for each test section, print the average value across all users, and produce a visualisation of this data.\n",
    "\n",
    "__2 marks__"
   ]
  },
  {
   "cell_type": "code",
   "execution_count": 9,
   "metadata": {},
   "outputs": [
    {
     "name": "stdout",
     "output_type": "stream",
     "text": [
      "Average Words Per Minute: 53.816667\n"
     ]
    },
    {
     "data": {
      "image/png": "[encoded data removed]",
      "text/plain": [
       "<Figure size 432x288 with 1 Axes>"
      ]
     },
     "metadata": {
      "needs_background": "light"
     },
     "output_type": "display_data"
    }
   ],
   "source": [
    "def wordsPerMin(test_section):\n",
    "    count = len(test_section['USER_INPUT'].iloc[0])/5\n",
    "    time = (test_section['RELEASE_TIME'].iloc[-1] - test_section['PRESS_TIME'].iloc[0])/60000\n",
    "    return int(count/time)\n",
    "\n",
    "metric_frame = add_column(metric_frame, wordsPerMin, 'WPM')\n",
    "\n",
    "wpm_mean = metric_frame['WPM'].mean()\n",
    "print(f\"Average Words Per Minute: {wpm_mean:.6f}\")\n",
    "\n",
    "bx = sns.histplot(data=metric_frame['WPM'], kde=\"true\", stat=\"probability\")\n",
    "bx.set(xlabel=\"Words Per Minute\", ylabel=\"Probability Density\");"
   ]
  },
  {
   "cell_type": "markdown",
   "metadata": {},
   "source": [
    "## c) Error Corrections\n",
    "EC is calculated as the percentage of keypresses that are the backspace or delete key.\n",
    "\n",
    "Calculate the EC for each test section, print the average across all users, and produce a visualisation of this data.\n",
    "\n",
    "__2 marks__"
   ]
  },
  {
   "cell_type": "code",
   "execution_count": 10,
   "metadata": {},
   "outputs": [
    {
     "name": "stdout",
     "output_type": "stream",
     "text": [
      "Average Error Corrections: 3.874127\n"
     ]
    },
    {
     "data": {
      "image/png": "[encoded data removed]",
      "text/plain": [
       "<Figure size 432x288 with 1 Axes>"
      ]
     },
     "metadata": {
      "needs_background": "light"
     },
     "output_type": "display_data"
    }
   ],
   "source": [
    "def errorCorrections(test_section):\n",
    "    keypresses = len(test_section)\n",
    "    count = list(test_section['LETTER']).count(\"BKSP\") + list(test_section['LETTER']).count(\"DELETE\")\n",
    "    return 100*(count/keypresses)\n",
    "\n",
    "metric_frame = add_column(metric_frame, errorCorrections, 'EC')\n",
    "\n",
    "ec_mean = metric_frame['EC'].mean()\n",
    "print(f\"Average Error Corrections: {ec_mean:.6f}\")\n",
    "\n",
    "cx = sns.histplot(data=metric_frame['EC'], kde=\"true\", stat=\"probability\")\n",
    "cx.set(xlabel=\"Error Corrections\", ylabel=\"Probability Density\");"
   ]
  },
  {
   "cell_type": "markdown",
   "metadata": {},
   "source": [
    "## d) Keystrokes Per Character\n",
    "KPC is the number of total keystrokes divided by the number of characters in the final sentence. \n",
    "\n",
    "Calculate the KPC for each test section, print the average across all users, and produce a visualisation of this data.\n",
    "\n",
    "__2 marks__"
   ]
  },
  {
   "cell_type": "code",
   "execution_count": 11,
   "metadata": {},
   "outputs": [
    {
     "name": "stdout",
     "output_type": "stream",
     "text": [
      "Average Keystrokes Per Character: 1.154218\n"
     ]
    },
    {
     "data": {
      "image/png": "[encoded data removed]",
      "text/plain": [
       "<Figure size 432x288 with 1 Axes>"
      ]
     },
     "metadata": {
      "needs_background": "light"
     },
     "output_type": "display_data"
    }
   ],
   "source": [
    "def keyPerChar(test_section):\n",
    "    return len(test_section)/len(test_section['USER_INPUT'].iloc[0])\n",
    "\n",
    "metric_frame = add_column(metric_frame, keyPerChar, 'KPC')\n",
    "\n",
    "kpc_mean = metric_frame['KPC'].mean()\n",
    "print(f\"Average Keystrokes Per Character: {kpc_mean:.6f}\")\n",
    "\n",
    "dx = sns.histplot(data=metric_frame['KPC'], kde=\"true\", stat=\"probability\")\n",
    "dx.set(xlabel=\"Keystrokes Per Character\", ylabel=\"Probability Density\");"
   ]
  },
  {
   "cell_type": "markdown",
   "metadata": {},
   "source": [
    "## e) Interkey Interval\n",
    "IKI is the time difference in milliseconds between two keypress events.  Remove IKI intervals of greater than 5000 milliseconds from your analysis.\n",
    "\n",
    "Calculate the average IKI for each test section, print the average across all users, and produce a visualisation of this data.\n",
    "\n",
    "__2 marks__"
   ]
  },
  {
   "cell_type": "code",
   "execution_count": 12,
   "metadata": {},
   "outputs": [
    {
     "name": "stdout",
     "output_type": "stream",
     "text": [
      "Average Interkey Interval (using only Press Time): 236.195073\n",
      "Average Interkey Interval: 117.963677\n"
     ]
    },
    {
     "data": {
      "image/png": "[encoded data removed]",
      "text/plain": [
       "<Figure size 432x288 with 1 Axes>"
      ]
     },
     "metadata": {
      "needs_background": "light"
     },
     "output_type": "display_data"
    }
   ],
   "source": [
    "def interkeyIntervalPT(test_section):\n",
    "    entries = len(test_section)\n",
    "    sum_diff = sum([\n",
    "        time_diff for time_diff in [\n",
    "            test_section['PRESS_TIME'].iloc[i] - test_section['PRESS_TIME'].iloc[i-1]\n",
    "            for i in range(1, entries)\n",
    "        ] if time_diff<=5000\n",
    "    ])\n",
    "    return sum_diff/entries\n",
    "\n",
    "def interkeyInterval(test_section):\n",
    "    entries = len(test_section)\n",
    "    sum_diff = sum([\n",
    "        time_diff for time_diff in [\n",
    "            test_section['PRESS_TIME'].iloc[i] - test_section['RELEASE_TIME'].iloc[i-1]\n",
    "            for i in range(1, entries)\n",
    "        ] if time_diff<=5000\n",
    "    ])\n",
    "    return sum_diff/entries\n",
    "\n",
    "metric_frame = add_column(metric_frame, interkeyIntervalPT, 'IKI_PT')\n",
    "metric_frame = add_column(metric_frame, interkeyInterval, 'IKI')\n",
    "\n",
    "iki_pt_mean = metric_frame['IKI_PT'].mean()\n",
    "iki_mean = metric_frame['IKI'].mean()\n",
    "print(f\"Average Interkey Interval (using only Press Time): {iki_pt_mean:.6f}\")\n",
    "print(f\"Average Interkey Interval: {iki_mean:.6f}\")\n",
    "\n",
    "ex = sns.histplot(data=metric_frame['IKI'], kde=\"true\", stat=\"probability\")\n",
    "ex.set(xlabel=\"Interkey Interval\", ylabel=\"Probability Density\");"
   ]
  },
  {
   "cell_type": "markdown",
   "metadata": {},
   "source": [
    "## f) Keypress Duration\n",
    "KPD is the duration in milliseconds between a keypress down and keypress up event.\n",
    "\n",
    "Calculate the average KPD for each test section, print the average across all users, and produce a visualisation of this data.\n",
    "\n",
    "__2 marks__"
   ]
  },
  {
   "cell_type": "code",
   "execution_count": 13,
   "metadata": {},
   "outputs": [
    {
     "name": "stdout",
     "output_type": "stream",
     "text": [
      "Average Keypress Duration: -127.675477\n"
     ]
    },
    {
     "data": {
      "image/png": "[encoded data removed]",
      "text/plain": [
       "<Figure size 432x288 with 1 Axes>"
      ]
     },
     "metadata": {
      "needs_background": "light"
     },
     "output_type": "display_data"
    }
   ],
   "source": [
    "def keypressDur(test_section):\n",
    "    entries = len(test_section)\n",
    "    return sum([\n",
    "        test_section['PRESS_TIME'].iloc[i] - test_section['RELEASE_TIME'].iloc[i]\n",
    "        for i in range(entries)\n",
    "    ])/entries\n",
    "\n",
    "metric_frame = add_column(metric_frame, keypressDur, 'KPD')\n",
    "\n",
    "kpd_mean = metric_frame['KPD'].mean()\n",
    "print(f\"Average Keypress Duration: {kpd_mean:.6f}\")\n",
    "\n",
    "fx = sns.histplot(data=metric_frame['KPD'], kde=\"true\", stat=\"probability\")\n",
    "fx.set(xlabel=\"Keypress Duration\", ylabel=\"Probability Density\");"
   ]
  },
  {
   "cell_type": "markdown",
   "metadata": {},
   "source": [
    "# 2. Key Grouping Analysis\n",
    "There are certain key combinations and orderings in typing behaviour that can be seen in a dataset like this. In the paper, the authors describe some of these results such as lettering pairings \"as\" \"an\" and \"ll\" which require typing across different areas of a QWERTY keyboard.\n",
    "\n",
    "Using your knowledge of keyboard layouts and typing behaviour, complete a novel analysis of a key grouping of your choice. You may need to be creative in exploring the data to find and analyse a typing behaviour.\n",
    "\n",
    "Use the space below to describe what key grouping you are analysing and why (up to 200 words). Generate suitable visualisations to illustrate your point and give a summary of your results (up to 200 words). Comment on whether your results complement or contradict any other findings or discussions in the paper or are investigating something new, and/or general implications of your findings (up to 200 words).\n",
    "\n",
    "__10 marks__"
   ]
  },
  {
   "cell_type": "code",
   "execution_count": 14,
   "metadata": {},
   "outputs": [],
   "source": [
    "pair_str = \"en\"\n",
    "pairing = [c for c in pair_str]\n"
   ]
  },
  {
   "cell_type": "code",
   "execution_count": 15,
   "metadata": {},
   "outputs": [
    {
     "data": {
      "text/markdown": [
       "\n",
       "### Pairing\n",
       "For this analysis, **I chose \"en\"** since they're the closest keys for an hand alternation bigram,\n",
       "so I'm interested in knowing how frequently would the hands be alternating since they got a high enough\n",
       "alternation IKI (average of bigram IKIs typed with fingers of different hands) to be categorised as such\n",
       "in the How-we-Type dataset from Feit _et al_. (2016). It could be interesting to see how one would use the\n",
       "two letters. The awkward positioning of letters with a person's hands may be confusing to an evaluator\n",
       "causing them to think that both letters (\"e\" and \"n\") would use the index fingers of each hand respectively,\n",
       "but there's a very high chance that this is not the case. I expected to use the index & middle left fingers\n",
       "for \"e\" and index & thumb for \"n\", however, while typing this as well, I found myself to be using my ring\n",
       "finger for \"e\" as well. \"n\" was limited just to my index and thumb.\n"
      ],
      "text/plain": [
       "<IPython.core.display.Markdown object>"
      ]
     },
     "metadata": {},
     "output_type": "display_data"
    },
    {
     "name": "stdout",
     "output_type": "stream",
     "text": [
      "167 words\n"
     ]
    }
   ],
   "source": [
    "from IPython.display import display, Markdown\n",
    "\n",
    "part_a = \\\n",
    "f\"\"\"\n",
    "### Pairing\n",
    "For this analysis, **I chose \"{pair_str}\"** since they're the closest keys for an hand alternation bigram,\n",
    "so I'm interested in knowing how frequently would the hands be alternating since they got a high enough\n",
    "alternation IKI (average of bigram IKIs typed with fingers of different hands) to be categorised as such\n",
    "in the How-we-Type dataset from Feit _et al_. (2016). It could be interesting to see how one would use the\n",
    "two letters. The awkward positioning of letters with a person's hands may be confusing to an evaluator\n",
    "causing them to think that both letters (\"e\" and \"n\") would use the index fingers of each hand respectively,\n",
    "but there's a very high chance that this is not the case. I expected to use the index & middle left fingers\n",
    "for \"e\" and index & thumb for \"n\", however, while typing this as well, I found myself to be using my ring\n",
    "finger for \"e\" as well. \"n\" was limited just to my index and thumb.\n",
    "\"\"\"\n",
    "\n",
    "display(Markdown(part_a))\n",
    "print(len(part_a.split()), \"words\")"
   ]
  },
  {
   "cell_type": "code",
   "execution_count": 16,
   "metadata": {},
   "outputs": [
    {
     "name": "stdout",
     "output_type": "stream",
     "text": [
      "Average Interkey Interval (Letter Pairing): 68.470000\n"
     ]
    },
    {
     "data": {
      "image/png": "[encoded data removed]",
      "text/plain": [
       "<Figure size 432x288 with 1 Axes>"
      ]
     },
     "metadata": {
      "needs_background": "light"
     },
     "output_type": "display_data"
    }
   ],
   "source": [
    "def repInterkeyInterval(test_section):\n",
    "    entries = len(test_section)\n",
    "    time_diff = []\n",
    "    for i in range(1, entries):\n",
    "        letter_1 = test_section['LETTER'].iloc[i-1]\n",
    "        letter_2 = test_section['LETTER'].iloc[i]\n",
    "        if [letter_1, letter_2] == pairing:\n",
    "            diff = test_section['PRESS_TIME'].iloc[i] - test_section['PRESS_TIME'].iloc[i-1]\n",
    "            if diff <= 5000:\n",
    "                time_diff.append(diff)\n",
    "    return sum(time_diff)\n",
    "\n",
    "\n",
    "metric_frame = add_column(metric_frame, repInterkeyInterval, 'LP_IKI')\n",
    "lp_iki_mean = metric_frame['LP_IKI'].mean()\n",
    "print(f\"Average Interkey Interval (Letter Pairing): {lp_iki_mean:.6f}\")\n",
    "\n",
    "\n",
    "lp1x = sns.histplot(data=metric_frame['LP_IKI'], kde=\"true\", stat=\"probability\")\n",
    "lp1x.set(xlabel=\"Interkey Interval (Letter Pairing)\", ylabel=\"Probability Density\");"
   ]
  },
  {
   "cell_type": "code",
   "execution_count": 17,
   "metadata": {},
   "outputs": [
    {
     "name": "stdout",
     "output_type": "stream",
     "text": [
      "Average Rollover Ratio (Letter Pairing): 2.333333\n"
     ]
    },
    {
     "data": {
      "image/png": "[encoded data removed]",
      "text/plain": [
       "<Figure size 432x288 with 1 Axes>"
      ]
     },
     "metadata": {
      "needs_background": "light"
     },
     "output_type": "display_data"
    }
   ],
   "source": [
    "def rolloverRatio(test_section):\n",
    "    entries = len(test_section)\n",
    "    total_count = 0\n",
    "    rollover_count = 0\n",
    "    for i in range(1, entries):\n",
    "        letter_1 = test_section['LETTER'].iloc[i-1]\n",
    "        letter_2 = test_section['LETTER'].iloc[i]\n",
    "        if [letter_1, letter_2] == pairing:\n",
    "            total_count+=1\n",
    "            if test_section['RELEASE_TIME'].iloc[i-1] > test_section['PRESS_TIME'].iloc[i]:\n",
    "                rollover_count+=1\n",
    "    return 100*(rollover_count/total_count) if total_count > 0 else 0\n",
    "\n",
    "metric_frame = add_column(metric_frame, rolloverRatio, 'LP_RR')\n",
    "\n",
    "lp_rr_mean = metric_frame['LP_RR'].mean()\n",
    "print(f\"Average Rollover Ratio (Letter Pairing): {lp_rr_mean:.6f}\")\n",
    "\n",
    "\n",
    "lp2x = sns.histplot(data=metric_frame['LP_RR'], kde=\"true\", stat=\"probability\")\n",
    "lp2x.set(xlabel=\"Rollover Ratio (Letter Pairing)\", ylabel=\"Probability Density\");"
   ]
  },
  {
   "cell_type": "code",
   "execution_count": 18,
   "metadata": {},
   "outputs": [
    {
     "data": {
      "text/markdown": [
       "\n",
       "### Visualisations\n",
       "The **Interkey Interval** graph is a necessity for bigrams. We see that the average interkey interval for\n",
       "letter pair \"en\" (68.470000) is clearly less\n",
       "than the average interkey interval for all (117.963677) by 58.04%. This\n",
       "obviously means that it's a justified bigram. Unfortunately, though, it would not be possible to confirm\n",
       "that \"en\" lies under hand alternation category because of lack of data provided. **However**, there\n",
       "is another analytic _may_ help us in understanding the hand alternation.\n",
       "\n",
       "The **Rollover Ratio** graph reveals typing of consecutive keys (a biagram) without releasing the earlier\n",
       "key. We can understand that usually, in a case of a rollover, two different hands are involved as it is\n",
       "unlikely that a person would press two keys at the same time with one hand - specially those that are in\n",
       "different regions of a keyboard. The rollover ratio here is calculated by dividing number of rollover\n",
       "\"en\" by total number of \"en\" which turns out to be 2.333333.\n"
      ],
      "text/plain": [
       "<IPython.core.display.Markdown object>"
      ]
     },
     "metadata": {},
     "output_type": "display_data"
    },
    {
     "name": "stdout",
     "output_type": "stream",
     "text": [
      "163 words\n"
     ]
    }
   ],
   "source": [
    "part_b = \\\n",
    "f\"\"\"\n",
    "### Visualisations\n",
    "The **Interkey Interval** graph is a necessity for bigrams. We see that the average interkey interval for\n",
    "letter pair \"{pair_str}\" ({lp_iki_mean:.6f}) is clearly {\"less\" if lp_iki_mean <= iki_mean else \"more\"}\n",
    "than the average interkey interval for all ({iki_mean:.6f}) by {(lp_iki_mean/iki_mean)*100:.2f}%. This\n",
    "obviously means that it's a justified bigram. Unfortunately, though, it would not be possible to confirm\n",
    "that \"{pair_str}\" lies under hand alternation category because of lack of data provided. **However**, there\n",
    "is another analytic _may_ help us in understanding the hand alternation.\n",
    "\n",
    "The **Rollover Ratio** graph reveals typing of consecutive keys (a biagram) without releasing the earlier\n",
    "key. We can understand that usually, in a case of a rollover, two different hands are involved as it is\n",
    "unlikely that a person would press two keys at the same time with one hand - specially those that are in\n",
    "different regions of a keyboard. The rollover ratio here is calculated by dividing number of rollover\n",
    "\"{pair_str}\" by total number of \"{pair_str}\" which turns out to be {lp_rr_mean:.6f}.\n",
    "\"\"\"\n",
    "\n",
    "display(Markdown(part_b))\n",
    "print(len(part_b.split()), \"words\")"
   ]
  },
  {
   "cell_type": "code",
   "execution_count": 19,
   "metadata": {},
   "outputs": [
    {
     "data": {
      "text/markdown": [
       "\n",
       "### Summary\n",
       "Our analysis was done using a subset of the 168 participants' data (300 participants), with 13928\n",
       "keystrokes where 84 **pairs** (168 keystrokes) are the chosen bigram \"en\". The data will not\n",
       "be 100% accurate and / or suggestive.\n",
       "\n",
       "Since the interkey interval for \"en\" is less than 117.963677 (average interkey interval), so\n",
       "this means it is on the good side. It is near the lower bound of 60ms as found in Feit _et al_. (2016)\n",
       "The rollover ratio appears to be a little confusing here though. Out of the 84 keystroke pairs where\n",
       "en is pressed, only one has a case of rollover (the second key pressed before releasing the\n",
       "first key), so it is very difficult to confirm if the bigram is indeed under the hand alternation\n",
       "category. The thing is that the letters e and n - being the nearest in the hand\n",
       "alternation category - are accessible and can actually be pressed with one hand. For example, left pinky\n",
       "and left thumb can be placed on \"e\" and \"n\" respectively; specially for people with longer keyboards\n",
       "(like with a numpad). Still, even a split keyboard layout has the two in separate places (even though\n",
       "all participants here have the standard QWERTY keyboard).\n"
      ],
      "text/plain": [
       "<IPython.core.display.Markdown object>"
      ]
     },
     "metadata": {},
     "output_type": "display_data"
    },
    {
     "name": "stdout",
     "output_type": "stream",
     "text": [
      "207 words\n"
     ]
    }
   ],
   "source": [
    "part_c = \\\n",
    "f\"\"\"\n",
    "### Summary\n",
    "Our analysis was done using a subset of the 168 participants' data (300 participants), with 13928\n",
    "keystrokes where 84 **pairs** (168 keystrokes) are the chosen bigram \"{pair_str}\". The data will not\n",
    "be 100% accurate and / or suggestive.\n",
    "\n",
    "Since the interkey interval for \"{pair_str}\" is less than {iki_mean:.6f} (average interkey interval), so\n",
    "this means it is on the good side. It is near the lower bound of 60ms as found in Feit _et al_. (2016)\n",
    "The rollover ratio appears to be a little confusing here though. Out of the 84 keystroke pairs where\n",
    "{pair_str} is pressed, only one has a case of rollover (the second key pressed before releasing the\n",
    "first key), so it is very difficult to confirm if the bigram is indeed under the hand alternation\n",
    "category. The thing is that the letters {\" and \".join(pairing)} - being the nearest in the hand\n",
    "alternation category - are accessible and can actually be pressed with one hand. For example, left pinky\n",
    "and left thumb can be placed on \"e\" and \"n\" respectively; specially for people with longer keyboards\n",
    "(like with a numpad). Still, even a split keyboard layout has the two in separate places (even though\n",
    "all participants here have the standard QWERTY keyboard).\n",
    "\"\"\"\n",
    "\n",
    "display(Markdown(part_c))\n",
    "print(len(part_c.split()), \"words\")"
   ]
  }
 ],
 "metadata": {
  "kernelspec": {
   "display_name": "Python 3",
   "language": "python",
   "name": "python3"
  },
  "language_info": {
   "codemirror_mode": {
    "name": "ipython",
    "version": 3
   },
   "file_extension": ".py",
   "mimetype": "text/x-python",
   "name": "python",
   "nbconvert_exporter": "python",
   "pygments_lexer": "ipython3",
   "version": "3.8.5"
  }
 },
 "nbformat": 4,
 "nbformat_minor": 2
}